{
  "nbformat": 4,
  "nbformat_minor": 0,
  "metadata": {
    "colab": {
      "name": "a3",
      "provenance": [],
      "collapsed_sections": [],
      "include_colab_link": true
    },
    "kernelspec": {
      "name": "python3",
      "display_name": "Python 3"
    }
  },
  "cells": [
    {
      "cell_type": "markdown",
      "metadata": {
        "id": "view-in-github",
        "colab_type": "text"
      },
      "source": [
        "<a href=\"https://colab.research.google.com/github/13286733-u/mla3/blob/master/a3.ipynb\" target=\"_parent\"><img src=\"https://colab.research.google.com/assets/colab-badge.svg\" alt=\"Open In Colab\"/></a>"
      ]
    },
    {
      "cell_type": "markdown",
      "metadata": {
        "id": "ssCmByLBgXB9",
        "colab_type": "text"
      },
      "source": [
        "# Assignment 3 - Question 3\n",
        "\n",
        "*Marketing or advertising companies would be very interested in being able to predict whether a Twitter message will spread as a meme or not, and even better, construct it so that it will spread. Why is this a hard problem to solve? Describe two approaches using data analytics to predict whether a tweet will go viral or not. How would you validate these approaches? Discuss the ethical and social consequence of this study.*"
      ]
    },
    {
      "cell_type": "markdown",
      "metadata": {
        "id": "A-lu3oW6gltO",
        "colab_type": "text"
      },
      "source": [
        "# Introduction\n",
        "\n",
        "In a day and age where advertisements are being fed to consumers everywhere, using humour and familiar media in marketing can help attrat hard to reach customers. One of the more recent forms of humourous marketing is meme marketing. Memes originally 'represented the idea of \"going viral\" within a biological system or society' (McCrae, 2019) and was coined by the author and biologist Richard Dawkins in his 1976 book 'The Selfish Gene'. In Dawkin's book, a 'meme' referred to the way an idea spreads from person to person within society. Today, memes usually come in the form of media as a way to \"reflect on current events, clichés and trends\" (Whitman, 2019). Memes usually created and spread on social media platforms including Facebook, Instagram, Reddit and Twitter. For advertising and marketing companies it is important to know which memes are and will be popular as it extremely effective to leverage meme media as a way to boost brand exposure and engage new customers. This report will go over the challenges in predicting whether a twitter message will spread as a meme or not as well as existing approaches."
      ]
    },
    {
      "cell_type": "markdown",
      "metadata": {
        "id": "7HKor8TOg743",
        "colab_type": "text"
      },
      "source": [
        "# Why is it hard to predict whether a twitter message will spread as a meme or not?\n",
        "\n"
      ]
    },
    {
      "cell_type": "markdown",
      "metadata": {
        "id": "ueBuMkU9hSRi",
        "colab_type": "text"
      },
      "source": [
        "# Describe two approaches using data analytics to predict whether a tweet will go viral or not.\n",
        "\n",
        "*300 Words*"
      ]
    },
    {
      "cell_type": "markdown",
      "metadata": {
        "id": "-J3uiP4yhYbd",
        "colab_type": "text"
      },
      "source": [
        "# How would I validate these approaches\n",
        "\n",
        "*175 Words*\n"
      ]
    },
    {
      "cell_type": "markdown",
      "metadata": {
        "id": "1bHu6t0BhcDb",
        "colab_type": "text"
      },
      "source": [
        "# Ethical and social consequences of this study\n",
        "\n",
        "*150 Words*"
      ]
    },
    {
      "cell_type": "markdown",
      "metadata": {
        "id": "bYsMmS8nhgq2",
        "colab_type": "text"
      },
      "source": [
        "# Conclusion\n",
        "\n",
        "*150 Words*"
      ]
    },
    {
      "cell_type": "markdown",
      "metadata": {
        "id": "M1xN3rBlpqSY",
        "colab_type": "text"
      },
      "source": [
        "# References\n",
        "\n",
        "McCrae, J. 2019, Council Post: Meme Marketing: How Brands Are Speaking A New Consumer Language, Forbes.com. viewed 13 October 2019, <https://www.forbes.com/sites/forbescommunicationscouncil/2017/05/08/meme-marketing-how-brands-are-speaking-a-new-consumer-language/#40ea77b037f5>.\n",
        "\n",
        "Whitman, M. 2019, How to use memes for social media marketing, Lucidpress Blog. viewed 13 October 2019, <https://www.lucidpress.com/blog/how-to-use-memes-social-media-marketing>."
      ]
    }
  ]
}