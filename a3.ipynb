{
  "nbformat": 4,
  "nbformat_minor": 0,
  "metadata": {
    "colab": {
      "name": "a3",
      "provenance": [],
      "collapsed_sections": [],
      "include_colab_link": true
    },
    "kernelspec": {
      "name": "python3",
      "display_name": "Python 3"
    }
  },
  "cells": [
    {
      "cell_type": "markdown",
      "metadata": {
        "id": "view-in-github",
        "colab_type": "text"
      },
      "source": [
        "<a href=\"https://colab.research.google.com/github/13286733-u/mla3/blob/master/a3.ipynb\" target=\"_parent\"><img src=\"https://colab.research.google.com/assets/colab-badge.svg\" alt=\"Open In Colab\"/></a>"
      ]
    },
    {
      "cell_type": "markdown",
      "metadata": {
        "id": "ssCmByLBgXB9",
        "colab_type": "text"
      },
      "source": [
        "# Assignment 3 - Question 3\n",
        "\n",
        "*Marketing or advertising companies would be very interested in being able to predict whether a Twitter message will spread as a meme or not, and even better, construct it so that it will spread. Why is this a hard problem to solve? Describe two approaches using data analytics to predict whether a tweet will go viral or not. How would you validate these approaches? Discuss the ethical and social consequence of this study.*"
      ]
    },
    {
      "cell_type": "markdown",
      "metadata": {
        "id": "A-lu3oW6gltO",
        "colab_type": "text"
      },
      "source": [
        "# Introduction\n",
        "\n",
        "*150 Words*"
      ]
    },
    {
      "cell_type": "markdown",
      "metadata": {
        "id": "7HKor8TOg743",
        "colab_type": "text"
      },
      "source": [
        "# Why is it hard to predict whether a twitter message will spread as a meme or not?\n",
        "\n",
        "*150 Words*"
      ]
    },
    {
      "cell_type": "markdown",
      "metadata": {
        "id": "ueBuMkU9hSRi",
        "colab_type": "text"
      },
      "source": [
        "# Describe two approaches using data analytics to predict whether a tweet will go viral or not.\n",
        "\n",
        "*300 Words*"
      ]
    },
    {
      "cell_type": "markdown",
      "metadata": {
        "id": "-J3uiP4yhYbd",
        "colab_type": "text"
      },
      "source": [
        "# How would I validate these approaches\n",
        "\n",
        "*175 Words*\n"
      ]
    },
    {
      "cell_type": "markdown",
      "metadata": {
        "id": "1bHu6t0BhcDb",
        "colab_type": "text"
      },
      "source": [
        "# Ethical and social consequences of this study\n",
        "\n",
        "*150 Words*"
      ]
    },
    {
      "cell_type": "markdown",
      "metadata": {
        "id": "bYsMmS8nhgq2",
        "colab_type": "text"
      },
      "source": [
        "# Conclusion\n",
        "\n",
        "*150 Words*"
      ]
    }
  ]
}